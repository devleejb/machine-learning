{
 "cells": [
  {
   "cell_type": "markdown",
   "metadata": {},
   "source": [
    "# Getting Started with a Movie Recommendation System\n",
    "\n",
    "Reference: https://www.kaggle.com/code/ibtesama/getting-started-with-a-movie-recommendation-system/notebook?select=tmdb_5000_credits.csv"
   ]
  },
  {
   "cell_type": "markdown",
   "metadata": {},
   "source": [
    "## Prerequisites\n",
    "\n",
    "- Install Dependencies\n",
    "- Install Dataset"
   ]
  },
  {
   "cell_type": "code",
   "execution_count": null,
   "metadata": {},
   "outputs": [],
   "source": [
    "%pip install kagglehub\n",
    "%pip install pandas\n",
    "%pip install numpy\n",
    "%pip install matplotlib\n",
    "%pip install scikit-learn"
   ]
  },
  {
   "cell_type": "code",
   "execution_count": null,
   "metadata": {},
   "outputs": [],
   "source": [
    "import kagglehub\n",
    "\n",
    "# Download latest version\n",
    "path = kagglehub.dataset_download(\"tmdb/tmdb-movie-metadata\")\n",
    "\n",
    "print(\"Path to dataset files:\", path)"
   ]
  },
  {
   "cell_type": "markdown",
   "metadata": {},
   "source": [
    "## Approaches\n",
    "\n",
    "### Demographic Filtering\n",
    "\n",
    "- 영화 인기도나 장로에 기반하여 모든 사용자에게 일반화된 추천 제공\n",
    "- 인구통계학적으로 비슷한 사용자에게는 같은 영화 추천\n",
    "- 더 인기있는 영화가 평균적인 대중들이 좋아할 확률이 더 높을 것이라는 가정에 기반\n",
    "\n",
    "### Content Based Filtering\n",
    "\n",
    "- 특정 아이템에 기반하여 비슷한 아이템을 추천\n",
    "- 장르, 감독, 설명, 배우 등의 메타데이터 사용\n",
    "- 특정 영화를 좋아하는 사람이러면 비슷한 영화도 좋아할 것이라는 가정에 기반\n",
    "\n",
    "### Collaborative Filtering\n",
    "\n",
    "- 비슷한 관심사를 가진 사람들을 매칭하여 추천 제공\n",
    "- Content Based Filter과 달리 메타데이터를 사용하지 않음"
   ]
  },
  {
   "cell_type": "markdown",
   "metadata": {},
   "source": [
    "## Load Data\n",
    "\n",
    "- 앞서 다운로드 받은 데이터를 Pandas DataFrame으로 로드"
   ]
  },
  {
   "cell_type": "code",
   "execution_count": null,
   "metadata": {},
   "outputs": [],
   "source": [
    "import pandas as pd\n",
    "\n",
    "df1 = pd.read_csv(f\"{path}/tmdb_5000_credits.csv\")\n",
    "df2 = pd.read_csv(f\"{path}/tmdb_5000_movies.csv\")"
   ]
  },
  {
   "cell_type": "code",
   "execution_count": null,
   "metadata": {},
   "outputs": [],
   "source": [
    "# 데이터셋 살펴보기: tmdb_5000_credits.csv\n",
    "df1"
   ]
  },
  {
   "cell_type": "code",
   "execution_count": null,
   "metadata": {},
   "outputs": [],
   "source": [
    "# 데이터셋 살펴보기: tmdb_5000_movies.csv\n",
    "df2"
   ]
  },
  {
   "cell_type": "markdown",
   "metadata": {},
   "source": [
    "## Dataset Join\n",
    "\n",
    "- `df1`의 일부 컬럼만 뽑아 `df2`와 조인"
   ]
  },
  {
   "cell_type": "code",
   "execution_count": null,
   "metadata": {},
   "outputs": [],
   "source": [
    "df1.columns = [\"id\", \"tittle\", \"cast\", \"crew\"]\n",
    "df2 = df2.merge(df1, on=\"id\")\n",
    "\n",
    "# 5개의 Row 뽑아보기\n",
    "df2.head(5)"
   ]
  },
  {
   "cell_type": "markdown",
   "metadata": {},
   "source": [
    "## Demographic Filtering\n",
    "\n",
    "### TODO\n",
    "\n",
    "- 영화의 점수를 매길 수 있는 Metric 필요\n",
    "- 모든 영화의 점수 계산\n",
    "- 점수에 따라 정렬하고, 사용자에게 가장 높은 점수의 영화 추천\n",
    "\n",
    "\n",
    "### Metric\n",
    "\n",
    "- 8.9점이지만 3명만 평가한 영화와 7.8점이지만 40만명이 평가한 영화 중 어느 것이 더 좋은 영화일까?\n",
    "- 이는 알 수 없으므로, IMDB의 가중 평점(WR) 사용\n",
    "\n",
    "$$\n",
    "WR = \\left( \\frac{v}{v+m} \\cdot R \\right) + \\left( \\frac{m}{v+m} \\cdot C \\right)\n",
    "$$\n",
    "\n",
    "- $v$ : 영화에 대한 평가 수\n",
    "- $m$ : 최소 평가 수\n",
    "- $R$ : 영화 평균 평점\n",
    "- $C$ : 전체 영화 평균 평점\n",
    "\n",
    "이미 $v$와 $R$은 주어져 있으므로, $C$와 $m$을 정의해야 함\n",
    "\n"
   ]
  },
  {
   "cell_type": "code",
   "execution_count": null,
   "metadata": {},
   "outputs": [],
   "source": [
    "C = df2['vote_average'].mean()\n",
    "C"
   ]
  },
  {
   "cell_type": "markdown",
   "metadata": {},
   "source": [
    "- 90th Percentile을 사용하여 $m$ 정의\n",
    "- 영화가 차트에 추천되기 위해서는, 최소 90%의 영화보다 더 많은 평가를 받아야 함"
   ]
  },
  {
   "cell_type": "code",
   "execution_count": null,
   "metadata": {},
   "outputs": [],
   "source": [
    "m = df2['vote_count'].quantile(0.9)\n",
    "m"
   ]
  },
  {
   "cell_type": "markdown",
   "metadata": {},
   "source": [
    "- 대상이 되는 영화 필터링\n",
    "- 481개의 영화만 추천"
   ]
  },
  {
   "cell_type": "code",
   "execution_count": null,
   "metadata": {},
   "outputs": [],
   "source": [
    "q_movies = df2.copy().loc[df2[\"vote_count\"] >= m]\n",
    "q_movies.shape"
   ]
  },
  {
   "cell_type": "markdown",
   "metadata": {},
   "source": [
    "- Weighted Rating 계산"
   ]
  },
  {
   "cell_type": "code",
   "execution_count": null,
   "metadata": {},
   "outputs": [],
   "source": [
    "def weighted_rating(x, m=m, C=C):\n",
    "    v = x[\"vote_count\"]\n",
    "    R = x[\"vote_average\"]\n",
    "\n",
    "    return (v / (v + m) * R) + (m / (m + v) * C)"
   ]
  },
  {
   "cell_type": "code",
   "execution_count": null,
   "metadata": {},
   "outputs": [],
   "source": [
    "q_movies['score'] = q_movies.apply(weighted_rating, axis=1)"
   ]
  },
  {
   "cell_type": "markdown",
   "metadata": {},
   "source": [
    "- Score를 기반으로 정렬"
   ]
  },
  {
   "cell_type": "code",
   "execution_count": null,
   "metadata": {},
   "outputs": [],
   "source": [
    "q_movies = q_movies.sort_values('score', ascending=False)\n",
    "\n",
    "q_movies[['title', 'vote_count', 'vote_average', 'score']].head(10)"
   ]
  },
  {
   "cell_type": "code",
   "execution_count": null,
   "metadata": {},
   "outputs": [],
   "source": [
    "pop = df2.sort_values(\"popularity\", ascending=False)\n",
    "\n",
    "import matplotlib.pyplot as plt\n",
    "\n",
    "plt.figure(figsize=(12, 4))\n",
    "\n",
    "plt.barh(\n",
    "    pop[\"title\"].head(6), pop[\"popularity\"].head(6), align=\"center\", color=\"skyblue\"\n",
    ")\n",
    "plt.gca().invert_yaxis()\n",
    "plt.xlabel(\"Popularity\")\n",
    "plt.title(\"Popular Movies\")"
   ]
  },
  {
   "cell_type": "markdown",
   "metadata": {},
   "source": [
    "## Content Based Filtering\n",
    "\n",
    "- 영화의 개요, 감독, 배우, 장르 등을 사용하여 영화 간 유사성 계산\n",
    "- 유사성 점수를 기반으로 추천\n",
    "- `overvie` 컬럼을 사용하여 영화 간 유사성 계산\n",
    "- Term Frequency-Inverse Document Frequency(TF-IDF) 사용"
   ]
  },
  {
   "cell_type": "code",
   "execution_count": null,
   "metadata": {},
   "outputs": [],
   "source": [
    "# Import TfIdfVectorizer from scikit-learn\n",
    "from sklearn.feature_extraction.text import TfidfVectorizer\n",
    "\n",
    "# Define a TF-IDF Vectorizer Object. Remove all english stop words such as 'the', 'a'\n",
    "tfidf = TfidfVectorizer(stop_words=\"english\")\n",
    "\n",
    "# Replace NaN with an empty string\n",
    "df2[\"overview\"] = df2[\"overview\"].fillna(\"\")\n",
    "\n",
    "# Construct the required TF-IDF matrix by fitting and transforming the data\n",
    "tfidf_matrix = tfidf.fit_transform(df2[\"overview\"])\n",
    "\n",
    "# Output the shape of tfidf_matrix\n",
    "tfidf_matrix.shape"
   ]
  },
  {
   "cell_type": "markdown",
   "metadata": {},
   "source": [
    "- Cosine Similarity 사용하여 유사성 계산\n",
    "\n",
    "$$\n",
    "cosine(x, y) = \\frac{x \\cdot y}{||x|| \\cdot ||y||}\n",
    "$$\n",
    "\n",
    "- TF-IDF vectorizer를 사용했기 때문에, Dot Product가 Cosine Similarity와 동일"
   ]
  },
  {
   "cell_type": "code",
   "execution_count": null,
   "metadata": {},
   "outputs": [],
   "source": [
    "# Import linear_kernel\n",
    "from sklearn.metrics.pairwise import linear_kernel\n",
    "\n",
    "# Compute the cosine similarity matrix\n",
    "cosine_sim = linear_kernel(tfidf_matrix, tfidf_matrix)"
   ]
  },
  {
   "cell_type": "code",
   "execution_count": null,
   "metadata": {},
   "outputs": [],
   "source": [
    "indices = pd.Series(df2.index, index=df2['title']).drop_duplicates()"
   ]
  },
  {
   "cell_type": "markdown",
   "metadata": {},
   "source": [
    "- Recommendation 함수 구현\n",
    "- 영화 제목으로부터 인덱스 추출\n",
    "- 모든 영화와의 Cosine Similarity 계산하고, Position과 Score 튜플로 변환\n",
    "- Score에 따라 정렬하고, 상위 10개 추천"
   ]
  },
  {
   "cell_type": "code",
   "execution_count": null,
   "metadata": {},
   "outputs": [],
   "source": [
    "# Function that takes in movie title as input and outputs most similar movies\n",
    "def get_recommendations(title, cosine_sim=cosine_sim):\n",
    "    # Get the index of the movie that matches the title\n",
    "    idx = indices[title]\n",
    "\n",
    "    # Get the pairwsie similarity scores of all movies with that movie\n",
    "    sim_scores = list(enumerate(cosine_sim[idx]))\n",
    "\n",
    "    # Sort the movies based on the similarity scores\n",
    "    sim_scores = sorted(sim_scores, key=lambda x: x[1], reverse=True)\n",
    "\n",
    "    # Get the scores of the 10 most similar movies\n",
    "    sim_scores = sim_scores[1:11]\n",
    "\n",
    "    # Get the movie indices\n",
    "    movie_indices = [i[0] for i in sim_scores]\n",
    "\n",
    "    # Return the top 10 most similar movies\n",
    "    return df2['title'].iloc[movie_indices]"
   ]
  },
  {
   "cell_type": "code",
   "execution_count": null,
   "metadata": {},
   "outputs": [],
   "source": [
    "get_recommendations('The Dark Knight Rises')"
   ]
  }
 ],
 "metadata": {
  "kernelspec": {
   "display_name": ".venv",
   "language": "python",
   "name": "python3"
  },
  "language_info": {
   "codemirror_mode": {
    "name": "ipython",
    "version": 3
   },
   "file_extension": ".py",
   "mimetype": "text/x-python",
   "name": "python",
   "nbconvert_exporter": "python",
   "pygments_lexer": "ipython3",
   "version": "3.12.6"
  }
 },
 "nbformat": 4,
 "nbformat_minor": 2
}
